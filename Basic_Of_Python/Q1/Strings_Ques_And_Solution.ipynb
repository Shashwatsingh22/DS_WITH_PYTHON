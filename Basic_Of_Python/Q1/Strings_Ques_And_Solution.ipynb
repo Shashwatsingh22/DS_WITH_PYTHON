{
 "cells": [
  {
   "cell_type": "markdown",
   "metadata": {},
   "source": [
    "### String Problem               \n",
    "#### Description                                                                                                                                                                                                                        In a certain encrypted message which has information about the location(area, city), the characters are jumbled such that first character of the first word is followed by the first character of the second word, then it is followed by second character of the first word and so on         \n",
    "#### In other words, let’s say the location is bandra,mumbai                                                                                                                                                     The encrypted message says ‘bmaunmdbraai’.                                                                                                                                             \n",
    "#### Sample Input:  \n",
    "#### bmaunmdbraai            \n",
    "#### Sample Output:                                                                                                                                                                       \n",
    "#### bandra,mumbai                                                                                                                                                                                            \n",
    "#### Let’s say the size or length of the two words wouldn’t match then the smaller word is appended with # and then encrypted in the above format .                                                                                                                                                                                                                             \n",
    "#### With this in mind write a code to identify the right location and print it as place,city."
   ]
  },
  {
   "cell_type": "code",
   "execution_count": 3,
   "metadata": {},
   "outputs": [
    {
     "name": "stdout",
     "output_type": "stream",
     "text": [
      "Enter The String:wmourmlbia#i\n",
      "worli,mumbai\n"
     ]
    }
   ],
   "source": [
    "import ast,sys\n",
    "input_str = input(str(\"Enter The String:\"))\n",
    "message1=\"\"\n",
    "message2=\"\"\n",
    "for stri in range(len(input_str)):\n",
    "    if stri%2==0:\n",
    "        message1=message1+input_str[stri]\n",
    "    else:\n",
    "        message2=message2+input_str[stri]\n",
    "print(message1.strip(\"#\")+\",\"+message2.strip(\"#\"))\n"
   ]
  }
 ],
 "metadata": {
  "kernelspec": {
   "display_name": "Python 3",
   "language": "python",
   "name": "python3"
  },
  "language_info": {
   "codemirror_mode": {
    "name": "ipython",
    "version": 3
   },
   "file_extension": ".py",
   "mimetype": "text/x-python",
   "name": "python",
   "nbconvert_exporter": "python",
   "pygments_lexer": "ipython3",
   "version": "3.7.6"
  }
 },
 "nbformat": 4,
 "nbformat_minor": 4
}
